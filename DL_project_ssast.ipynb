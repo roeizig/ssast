{
  "cells": [
    {
      "cell_type": "markdown",
      "metadata": {
        "id": "Bbwjz4XerM6B"
      },
      "source": [
        "# Setup"
      ]
    },
    {
      "cell_type": "markdown",
      "metadata": {
        "id": "_eMIXlmOpQwZ"
      },
      "source": [
        "## Download the repo"
      ]
    },
    {
      "cell_type": "code",
      "execution_count": 1,
      "metadata": {
        "colab": {
          "base_uri": "https://localhost:8080/"
        },
        "id": "WxGk2IUlpTaa",
        "outputId": "43116417-4d28-4e83-9197-72a8dfd577b5"
      },
      "outputs": [
        {
          "name": "stdout",
          "output_type": "stream",
          "text": [
            "Cloning into 'ssast'...\n",
            "remote: Enumerating objects: 4056, done.\u001b[K\n",
            "remote: Counting objects: 100% (125/125), done.\u001b[K\n",
            "remote: Compressing objects: 100% (32/32), done.\u001b[K\n",
            "remote: Total 4056 (delta 103), reused 100 (delta 93), pack-reused 3931\u001b[K\n",
            "Receiving objects: 100% (4056/4056), 315.74 MiB | 33.62 MiB/s, done.\n",
            "Resolving deltas: 100% (378/378), done.\n",
            "Checking out files: 100% (3229/3229), done.\n"
          ]
        }
      ],
      "source": [
        "# !git clone https://github.com/YuanGongND/ssast.git\n",
        "!git clone https://github.com/roeizig/ssast.git"
      ]
    },
    {
      "cell_type": "markdown",
      "metadata": {
        "id": "wZbV32LapLVv"
      },
      "source": [
        "## Install requirements"
      ]
    },
    {
      "cell_type": "code",
      "execution_count": 2,
      "metadata": {
        "colab": {
          "base_uri": "https://localhost:8080/",
          "height": 0
        },
        "id": "im__hXpnpLEG",
        "outputId": "03e0dabb-7b12-45f6-d7be-b7ab50ce9dda"
      },
      "outputs": [
        {
          "name": "stdout",
          "output_type": "stream",
          "text": [
            "Looking in indexes: https://pypi.org/simple, https://us-python.pkg.dev/colab-wheels/public/simple/\n",
            "Collecting llvmlite==0.36.0\n",
            "  Downloading llvmlite-0.36.0-cp37-cp37m-manylinux2010_x86_64.whl (25.3 MB)\n",
            "\u001b[K     |████████████████████████████████| 25.3 MB 9.6 MB/s \n",
            "\u001b[?25hCollecting matplotlib==3.1.1\n",
            "  Downloading matplotlib-3.1.1-cp37-cp37m-manylinux1_x86_64.whl (13.1 MB)\n",
            "\u001b[K     |████████████████████████████████| 13.1 MB 53.1 MB/s \n",
            "\u001b[?25hCollecting numba==0.53.1\n",
            "  Downloading numba-0.53.1-cp37-cp37m-manylinux2014_x86_64.whl (3.4 MB)\n",
            "\u001b[K     |████████████████████████████████| 3.4 MB 72.9 MB/s \n",
            "\u001b[?25hCollecting numpy==1.20.3\n",
            "  Downloading numpy-1.20.3-cp37-cp37m-manylinux_2_12_x86_64.manylinux2010_x86_64.whl (15.3 MB)\n",
            "\u001b[K     |████████████████████████████████| 15.3 MB 56.3 MB/s \n",
            "\u001b[?25hCollecting scikit-learn==0.24.2\n",
            "  Downloading scikit_learn-0.24.2-cp37-cp37m-manylinux2010_x86_64.whl (22.3 MB)\n",
            "\u001b[K     |████████████████████████████████| 22.3 MB 1.1 MB/s \n",
            "\u001b[?25hCollecting scipy==1.7.0\n",
            "  Downloading scipy-1.7.0-cp37-cp37m-manylinux_2_5_x86_64.manylinux1_x86_64.whl (28.5 MB)\n",
            "\u001b[K     |████████████████████████████████| 28.5 MB 1.3 MB/s \n",
            "\u001b[?25hCollecting sklearn==0.0\n",
            "  Downloading sklearn-0.0.tar.gz (1.1 kB)\n",
            "Collecting timm==0.4.5\n",
            "  Downloading timm-0.4.5-py3-none-any.whl (287 kB)\n",
            "\u001b[K     |████████████████████████████████| 287 kB 35.2 MB/s \n",
            "\u001b[?25hCollecting torch==1.9.0\n",
            "  Downloading torch-1.9.0-cp37-cp37m-manylinux1_x86_64.whl (831.4 MB)\n",
            "\u001b[K     |████████████████████████████████| 831.4 MB 2.8 kB/s \n",
            "\u001b[?25hCollecting torchaudio==0.9.0\n",
            "  Downloading torchaudio-0.9.0-cp37-cp37m-manylinux1_x86_64.whl (1.9 MB)\n",
            "\u001b[K     |████████████████████████████████| 1.9 MB 53.1 MB/s \n",
            "\u001b[?25hCollecting wget==3.2\n",
            "  Downloading wget-3.2.zip (10 kB)\n",
            "Collecting zipp==3.4.1\n",
            "  Downloading zipp-3.4.1-py3-none-any.whl (5.2 kB)\n",
            "Requirement already satisfied: pyparsing!=2.0.4,!=2.1.2,!=2.1.6,>=2.0.1 in /usr/local/lib/python3.7/dist-packages (from matplotlib==3.1.1->-r /content/ssast/requirements.txt (line 2)) (3.0.9)\n",
            "Requirement already satisfied: cycler>=0.10 in /usr/local/lib/python3.7/dist-packages (from matplotlib==3.1.1->-r /content/ssast/requirements.txt (line 2)) (0.11.0)\n",
            "Requirement already satisfied: kiwisolver>=1.0.1 in /usr/local/lib/python3.7/dist-packages (from matplotlib==3.1.1->-r /content/ssast/requirements.txt (line 2)) (1.4.4)\n",
            "Requirement already satisfied: python-dateutil>=2.1 in /usr/local/lib/python3.7/dist-packages (from matplotlib==3.1.1->-r /content/ssast/requirements.txt (line 2)) (2.8.2)\n",
            "Requirement already satisfied: setuptools in /usr/local/lib/python3.7/dist-packages (from numba==0.53.1->-r /content/ssast/requirements.txt (line 3)) (57.4.0)\n",
            "Requirement already satisfied: joblib>=0.11 in /usr/local/lib/python3.7/dist-packages (from scikit-learn==0.24.2->-r /content/ssast/requirements.txt (line 5)) (1.1.0)\n",
            "Requirement already satisfied: threadpoolctl>=2.0.0 in /usr/local/lib/python3.7/dist-packages (from scikit-learn==0.24.2->-r /content/ssast/requirements.txt (line 5)) (3.1.0)\n",
            "Requirement already satisfied: torchvision in /usr/local/lib/python3.7/dist-packages (from timm==0.4.5->-r /content/ssast/requirements.txt (line 8)) (0.13.1+cu113)\n",
            "Requirement already satisfied: typing-extensions in /usr/local/lib/python3.7/dist-packages (from torch==1.9.0->-r /content/ssast/requirements.txt (line 9)) (4.1.1)\n",
            "Requirement already satisfied: six>=1.5 in /usr/local/lib/python3.7/dist-packages (from python-dateutil>=2.1->matplotlib==3.1.1->-r /content/ssast/requirements.txt (line 2)) (1.15.0)\n",
            "Collecting torchvision\n",
            "  Downloading torchvision-0.13.1-cp37-cp37m-manylinux1_x86_64.whl (19.1 MB)\n",
            "\u001b[K     |████████████████████████████████| 19.1 MB 1.2 MB/s \n",
            "\u001b[?25h  Downloading torchvision-0.13.0-cp37-cp37m-manylinux1_x86_64.whl (19.1 MB)\n",
            "\u001b[K     |████████████████████████████████| 19.1 MB 1.2 MB/s \n",
            "\u001b[?25hRequirement already satisfied: requests in /usr/local/lib/python3.7/dist-packages (from torchvision->timm==0.4.5->-r /content/ssast/requirements.txt (line 8)) (2.23.0)\n",
            "  Downloading torchvision-0.12.0-cp37-cp37m-manylinux1_x86_64.whl (21.0 MB)\n",
            "\u001b[K     |████████████████████████████████| 21.0 MB 104.4 MB/s \n",
            "\u001b[?25h  Downloading torchvision-0.11.3-cp37-cp37m-manylinux1_x86_64.whl (23.2 MB)\n",
            "\u001b[K     |████████████████████████████████| 23.2 MB 1.4 MB/s \n",
            "\u001b[?25hRequirement already satisfied: pillow!=8.3.0,>=5.3.0 in /usr/local/lib/python3.7/dist-packages (from torchvision->timm==0.4.5->-r /content/ssast/requirements.txt (line 8)) (7.1.2)\n",
            "  Downloading torchvision-0.11.2-cp37-cp37m-manylinux1_x86_64.whl (23.3 MB)\n",
            "\u001b[K     |████████████████████████████████| 23.3 MB 1.6 MB/s \n",
            "\u001b[?25h  Downloading torchvision-0.11.1-cp37-cp37m-manylinux1_x86_64.whl (23.3 MB)\n",
            "\u001b[K     |████████████████████████████████| 23.3 MB 6.8 MB/s \n",
            "\u001b[?25h  Downloading torchvision-0.10.1-cp37-cp37m-manylinux1_x86_64.whl (22.1 MB)\n",
            "\u001b[K     |████████████████████████████████| 22.1 MB 2.1 MB/s \n",
            "\u001b[?25h  Downloading torchvision-0.10.0-cp37-cp37m-manylinux1_x86_64.whl (22.1 MB)\n",
            "\u001b[K     |████████████████████████████████| 22.1 MB 1.4 MB/s \n",
            "\u001b[?25hBuilding wheels for collected packages: sklearn, wget\n",
            "  Building wheel for sklearn (setup.py) ... \u001b[?25l\u001b[?25hdone\n",
            "  Created wheel for sklearn: filename=sklearn-0.0-py2.py3-none-any.whl size=1310 sha256=84b565e6aa9d5b7f90c8e71d250395d80ad2db77e461bead4707b351d588ee06\n",
            "  Stored in directory: /root/.cache/pip/wheels/46/ef/c3/157e41f5ee1372d1be90b09f74f82b10e391eaacca8f22d33e\n",
            "  Building wheel for wget (setup.py) ... \u001b[?25l\u001b[?25hdone\n",
            "  Created wheel for wget: filename=wget-3.2-py3-none-any.whl size=9675 sha256=b11ce8168a8f6143750847887fa0c87c1d79c7ba781a2d0ed24354ce2ce1754c\n",
            "  Stored in directory: /root/.cache/pip/wheels/a1/b6/7c/0e63e34eb06634181c63adacca38b79ff8f35c37e3c13e3c02\n",
            "Successfully built sklearn wget\n",
            "Installing collected packages: numpy, torch, scipy, torchvision, scikit-learn, llvmlite, zipp, wget, torchaudio, timm, sklearn, numba, matplotlib\n",
            "  Attempting uninstall: numpy\n",
            "    Found existing installation: numpy 1.21.6\n",
            "    Uninstalling numpy-1.21.6:\n",
            "      Successfully uninstalled numpy-1.21.6\n",
            "  Attempting uninstall: torch\n",
            "    Found existing installation: torch 1.12.1+cu113\n",
            "    Uninstalling torch-1.12.1+cu113:\n",
            "      Successfully uninstalled torch-1.12.1+cu113\n",
            "  Attempting uninstall: scipy\n",
            "    Found existing installation: scipy 1.7.3\n",
            "    Uninstalling scipy-1.7.3:\n",
            "      Successfully uninstalled scipy-1.7.3\n",
            "  Attempting uninstall: torchvision\n",
            "    Found existing installation: torchvision 0.13.1+cu113\n",
            "    Uninstalling torchvision-0.13.1+cu113:\n",
            "      Successfully uninstalled torchvision-0.13.1+cu113\n",
            "  Attempting uninstall: scikit-learn\n",
            "    Found existing installation: scikit-learn 1.0.2\n",
            "    Uninstalling scikit-learn-1.0.2:\n",
            "      Successfully uninstalled scikit-learn-1.0.2\n",
            "  Attempting uninstall: llvmlite\n",
            "    Found existing installation: llvmlite 0.39.0\n",
            "    Uninstalling llvmlite-0.39.0:\n",
            "      Successfully uninstalled llvmlite-0.39.0\n",
            "  Attempting uninstall: zipp\n",
            "    Found existing installation: zipp 3.8.1\n",
            "    Uninstalling zipp-3.8.1:\n",
            "      Successfully uninstalled zipp-3.8.1\n",
            "  Attempting uninstall: torchaudio\n",
            "    Found existing installation: torchaudio 0.12.1+cu113\n",
            "    Uninstalling torchaudio-0.12.1+cu113:\n",
            "      Successfully uninstalled torchaudio-0.12.1+cu113\n",
            "  Attempting uninstall: numba\n",
            "    Found existing installation: numba 0.56.0\n",
            "    Uninstalling numba-0.56.0:\n",
            "      Successfully uninstalled numba-0.56.0\n",
            "  Attempting uninstall: matplotlib\n",
            "    Found existing installation: matplotlib 3.2.2\n",
            "    Uninstalling matplotlib-3.2.2:\n",
            "      Successfully uninstalled matplotlib-3.2.2\n",
            "\u001b[31mERROR: pip's dependency resolver does not currently take into account all the packages that are installed. This behaviour is the source of the following dependency conflicts.\n",
            "yellowbrick 1.4 requires scikit-learn>=1.0.0, but you have scikit-learn 0.24.2 which is incompatible.\n",
            "xarray-einstats 0.2.2 requires numpy>=1.21, but you have numpy 1.20.3 which is incompatible.\n",
            "torchtext 0.13.1 requires torch==1.12.1, but you have torch 1.9.0 which is incompatible.\n",
            "pymc3 3.11.5 requires scipy<1.8.0,>=1.7.3, but you have scipy 1.7.0 which is incompatible.\n",
            "cmdstanpy 1.0.4 requires numpy>=1.21, but you have numpy 1.20.3 which is incompatible.\u001b[0m\n",
            "Successfully installed llvmlite-0.36.0 matplotlib-3.1.1 numba-0.53.1 numpy-1.20.3 scikit-learn-0.24.2 scipy-1.7.0 sklearn-0.0 timm-0.4.5 torch-1.9.0 torchaudio-0.9.0 torchvision-0.10.0 wget-3.2 zipp-3.4.1\n"
          ]
        },
        {
          "data": {
            "application/vnd.colab-display-data+json": {
              "pip_warning": {
                "packages": [
                  "matplotlib",
                  "mpl_toolkits",
                  "numpy"
                ]
              }
            }
          },
          "metadata": {},
          "output_type": "display_data"
        }
      ],
      "source": [
        "!cd ssast/\n",
        "!pip install -r /content/ssast/requirements.txt"
      ]
    },
    {
      "cell_type": "markdown",
      "metadata": {
        "id": "F7t3by8PKbQx"
      },
      "source": [
        "## Imports"
      ]
    },
    {
      "cell_type": "code",
      "execution_count": 3,
      "metadata": {
        "id": "H5FzqwPkKdxR"
      },
      "outputs": [],
      "source": [
        "import torch\n",
        "import torchaudio\n",
        "from PIL import Image\n",
        "import numpy as np\n",
        "from ssast.src.models.ast_models import *\n",
        "from tqdm.notebook import tqdm_notebook\n",
        "import time\n",
        "import torch.nn as nn\n",
        "import matplotlib.pyplot as plt\n",
        "import pandas as pd\n",
        "\n",
        "device = torch.device(\"cuda\" if torch.cuda.is_available() else \"cpu\")"
      ]
    },
    {
      "cell_type": "markdown",
      "metadata": {
        "id": "jpiRZB7aJGsF"
      },
      "source": [
        "# Overriding the model"
      ]
    },
    {
      "cell_type": "markdown",
      "metadata": {
        "id": "_vJiEnMqNdd8"
      },
      "source": [
        "## New model definition"
      ]
    },
    {
      "cell_type": "code",
      "execution_count": 4,
      "metadata": {
        "id": "2NFeLyKqJL9W"
      },
      "outputs": [],
      "source": [
        "from ssast.src.models.ast_models import ASTModel\n",
        "\n",
        "class ASTModelRoei(ASTModel):\n",
        "    def __init__(self):\n",
        "      super().__init__(fshape=16, tshape=16, fstride=10, tstride=10, \n",
        "                      input_fdim=128, input_tdim=1024, model_size='tiny', \n",
        "                      pretrain_stage=False, load_pretrained_mdl_path='/content/ssast/pretrained_model/SSAST-Tiny-Patch-400.pth')\n",
        "      # regressor head for fine-tuning / inference\n",
        "      # self.regressor_head = nn.Sequential(nn.LayerNorm(self.original_embedding_dim),\n",
        "      #                               nn.Linear(self.original_embedding_dim, 1))\n",
        "      self.regressor_head = nn.Sequential(nn.LayerNorm(self.original_embedding_dim),\n",
        "                                    nn.Linear(self.original_embedding_dim, 1))\n",
        "\n",
        "\n",
        "    def finetuning_regressor(self, x, y):\n",
        "        # Finetuning using the regressor task.\n",
        "        # Calculate MSE loss and update weights accordingly\n",
        "        # B = x.shape[0]\n",
        "\n",
        "        # Calculate RMSE loss and update weights\n",
        "        pred = self.regressor(x)\n",
        "        target = y\n",
        "        # If cannot use reference in a vectorized manner, use the for loop below\n",
        "        # pred = torch.empty((B), device=x.device).float()  # e.g. size 12 for a batch of 12 spectrograms\n",
        "        # target = torch.empty((B), device=x.device).float() # e.g. size 12 for a batch of 12 spectrograms\n",
        "        # for i in range(B):\n",
        "        #     #  +2 for indexes because of cls and dis token\n",
        "        #     pred[i] = self.regressor(x[i])\n",
        "        #     target[i] = y[i]\n",
        "        # calculate the RMSE loss\n",
        "        # rmse = torch.mean((pred - target) ** 2)**0.5\n",
        "\n",
        "        # Update weights according to MSE loss\n",
        "        optimizer = torch.optim.Adam(self.parameters(), lr=0.001)\n",
        "        optimizer.zero_grad()\n",
        "        criterion = nn.MSELoss()\n",
        "        loss = criterion(pred, target)\n",
        "        loss.backward()\n",
        "        optimizer.step()\n",
        "\n",
        "        return loss\n",
        "\n",
        "\n",
        "    def regressor(self, x):\n",
        "        # Copied from \"finetuningavgtok\"\n",
        "        # changed only the last part, sending the intermediate result\n",
        "        # to the regressor head instead of the mlp head.\n",
        "        # Inference only mode\n",
        "        B = x.shape[0]\n",
        "        x = self.v.patch_embed(x)\n",
        "        if self.cls_token_num == 2:\n",
        "            cls_tokens = self.v.cls_token.expand(B, -1, -1)\n",
        "            dist_token = self.v.dist_token.expand(B, -1, -1)\n",
        "            x = torch.cat((cls_tokens, dist_token, x), dim=1)\n",
        "        else:\n",
        "            cls_tokens = self.v.cls_token.expand(B, -1, -1)\n",
        "            x = torch.cat((cls_tokens, x), dim=1)\n",
        "        x = x + self.v.pos_embed\n",
        "        x = self.v.pos_drop(x)\n",
        "\n",
        "        for blk_id, blk in enumerate(self.v.blocks):\n",
        "            x = blk(x)\n",
        "        x = self.v.norm(x)\n",
        "\n",
        "        # average output of all tokens except cls token(s)\n",
        "        x = torch.mean(x[:, self.cls_token_num:, :], dim=1)\n",
        "        x = self.regressor_head(x)\n",
        "        return x\n",
        "\n",
        "\n",
        "    def forward(self, x, task, y=None, cluster=True, mask_patch=400):\n",
        "        # expect input x = (batch_size, time_frame_num, frequency_bins), e.g., (12, 1024, 128)\n",
        "        x = x.unsqueeze(1)\n",
        "        x = x.transpose(2, 3)\n",
        "\n",
        "        # finetuning (ft), use the mean of all token (patch) output as clip-level representation.\n",
        "        # this is default for SSAST fine-tuning as during pretraining, supervision signal is given to each token, not the [cls] token\n",
        "        if task == 'ft_avgtok':\n",
        "            return self.finetuningavgtok(x)\n",
        "        # fine tuning the model as a regressor\n",
        "        elif task == 'ft_regressor':\n",
        "            return self.finetuning_regressor(x, y)\n",
        "        # inference using a regressor\n",
        "        elif task == 'regressor':\n",
        "            return self.regressor(x)\n",
        "        # alternatively, use the [cls] token output as clip-level representation.\n",
        "        elif task == 'ft_cls':\n",
        "            return self.finetuningcls(x)\n",
        "        # pretraining, masked patch classification (discriminative objective)\n",
        "        elif task == 'pretrain_mpc':\n",
        "            return self.mpc(x, mask_patch=mask_patch, cluster=cluster)\n",
        "        # pretraining, masked patch reconstruction (generative objective)\n",
        "        elif task == 'pretrain_mpg':\n",
        "            return self.mpg(x, mask_patch=mask_patch, cluster=cluster)\n",
        "        elif task == 'visualize_mask':\n",
        "            return self.mpc(x, mask_patch=mask_patch, cluster=cluster, show_mask=True)\n",
        "        else:\n",
        "            raise Exception('Task unrecognized.')\n",
        "\n"
      ]
    },
    {
      "cell_type": "markdown",
      "metadata": {
        "id": "E_VzcT75NWFs"
      },
      "source": [
        "## Creating the overridden model"
      ]
    },
    {
      "cell_type": "code",
      "execution_count": 5,
      "metadata": {
        "id": "VEBsV1wvNbWV"
      },
      "outputs": [],
      "source": [
        "# new_model = ASTModelRoei()\n",
        "# new_model.eval()\n",
        "# new_model.to(device)"
      ]
    },
    {
      "cell_type": "markdown",
      "metadata": {
        "id": "m6vKZ6yI9heI"
      },
      "source": [
        "## Creating the dataset"
      ]
    },
    {
      "cell_type": "code",
      "execution_count": 6,
      "metadata": {
        "id": "YDdJYvU18v5J"
      },
      "outputs": [],
      "source": [
        "## Creating Dataset\n",
        "from random import sample\n",
        "from torch.utils.data import Dataset, DataLoader\n",
        "import os\n",
        "import math\n",
        "from torchvision import transforms\n",
        "\n",
        "\n",
        "class SpectrogramData(Dataset):\n",
        "    \n",
        "    def __init__(self, audio_dir, device):\n",
        "        self.audio_dir = audio_dir\n",
        "        self.device = device\n",
        "        self._create_ann()\n",
        "        self.transform = transforms.PILToTensor()\n",
        "\n",
        "        \n",
        "    def __len__(self):\n",
        "        return len(self.annotations[0])\n",
        "        \n",
        "\n",
        "    def __getitem__(self, index):\n",
        "        sample_path = self._get_sample_path(index)\n",
        "        label = float(self._get_sample_label(index))\n",
        "\n",
        "        signal = Image.open(sample_path)\n",
        "        signal = self.transform(signal)\n",
        "        signal = signal.to(self.device, dtype=torch.float)\n",
        "        return signal, label\n",
        "\n",
        "            \n",
        "    def _create_ann(self, path=\"ssast/spectrogram_images/\"):\n",
        "        Ann = [[],[],[]]\n",
        "        for subdir, dirs, files in os.walk(path):\n",
        "            for file in files:\n",
        "                if file.endswith('png'):\n",
        "                                Ann[0].append(file) ##name\n",
        "                                Ann[1].append(subdir) #folder\n",
        "                                tmp_label = file.split('_')[-1]\n",
        "                                Ann[2].append(float(tmp_label[:-4])) #label\n",
        "        Ann = np.asarray(Ann)\n",
        "        self.annotations = Ann\n",
        "\n",
        "\n",
        "    def shuffle(self):\n",
        "      perm = torch.randperm(len(self.annotations[0]))\n",
        "      self.annotations= self.annotations[:,perm]\n",
        "      pass    \n",
        "    \n",
        "\n",
        "    def _get_sample_path(self, index):\n",
        "        folder = self.annotations[1][index]\n",
        "        filename = self.annotations[0][index]\n",
        "        path = os.path.join(self.audio_dir, folder, filename)\n",
        "        return path\n",
        "    \n",
        "\n",
        "    def _get_sample_label(self, index):\n",
        "        label = self.annotations[2][index]\n",
        "        return label\n",
        "\n",
        "##Functuins for DataViz\n",
        "    def _index_from_label(self, query_label):\n",
        "        labels =[float(x) for x in self.annotations[2]]\n",
        "        query_label = np.asarray(query_label)\n",
        "        index = (np.abs(labels-query_label)).argmin()\n",
        "        return index\n",
        "        \n",
        "    def seq_from_label(self, query, query_type = 'label'):\n",
        "        \n",
        "        if query_type == 'label':\n",
        "          index = self._index_from_label(query)\n",
        "        else:\n",
        "          index = query\n",
        "        folder = self.annotations[1][index]\n",
        "        current_call_filename = self.annotations[0][index]\n",
        "        \n",
        "        current_call_path = self._get_sample_path(index)\n",
        "        current_call =Image.open(current_call_path)\n",
        "        \n",
        "        current_call_num = int(current_call_filename.split('_')[-3])\n",
        "        prefix = '_'.join(current_call_filename.split('_')[:-3])\n",
        "\n",
        "        next_call_prefix = '_'.join([prefix, str(current_call_num+1)])+'_'\n",
        "        prev_call_prefix = '_'.join([prefix, str(current_call_num-1)])+'_'\n",
        "        \n",
        "      \n",
        "        next_call_filename= None\n",
        "        prev_call_filename = None\n",
        "        next_call = None\n",
        "        prev_call = None\n",
        "      \n",
        "        for subdir, dirs, files in os.walk(folder):\n",
        "          for file in files:\n",
        "              if file.startswith(bytes(next_call_prefix,'utf-8')):\n",
        "                              next_call_filename = file.decode()\n",
        "                              next_call_path = os.path.join(folder, next_call_filename)\n",
        "                              next_call = Image.open(next_call_path)\n",
        "              if file.startswith(bytes(prev_call_prefix,'utf-8')):\n",
        "                              prev_call_filename = file.decode()\n",
        "                              prev_call_path = os.path.join(folder, prev_call_filename)\n",
        "                              prev_call = Image.open(prev_call_path)\n",
        "        \n",
        "        images = [prev_call, current_call, next_call]\n",
        "        names  = [prev_call_filename, current_call_filename, next_call_filename]\n",
        "\n",
        "        for i, (img,name) in enumerate(zip(images, names)):\n",
        "          if img:\n",
        "            img = img.transpose(Image.FLIP_TOP_BOTTOM)\n",
        "            plt.imshow(img, origin = 'lower')\n",
        "            plt.title(name)\n",
        "            plt.show()\n",
        "          else:\n",
        "            if i == 0:\n",
        "              print(f'previous call does not exist')\n",
        "            else:\n",
        "              print(f'next call does not exist')\n",
        "\n",
        "        return images, names\n",
        "\n",
        "\n"
      ]
    },
    {
      "cell_type": "code",
      "execution_count": 39,
      "metadata": {
        "id": "n-kPk77_nu8r"
      },
      "outputs": [],
      "source": [
        "path = \"ssast/spectrogram_images/\"\n",
        "x = SpectrogramData(\"\", device)\n",
        "trainval , testset = torch.utils.data.random_split(x, [3000, len(x)-3000],\n",
        "                                            generator=torch.Generator().manual_seed(42))\n",
        "trainset, valset = torch.utils.data.random_split(trainval, [2000, 1000],\n",
        "                                                generator=torch.Generator().manual_seed(42))"
      ]
    },
    {
      "cell_type": "code",
      "execution_count": null,
      "metadata": {},
      "outputs": [],
      "source": [
        "##Testing the sequence display\n",
        "label = 52.2493\n",
        "label = 60\n",
        "images, names = x.seq_from_label(label)"
      ]
    },
    {
      "cell_type": "markdown",
      "metadata": {
        "id": "g4zBP_s-D8Mi"
      },
      "source": [
        "## Testing the model on a single spectrogram"
      ]
    },
    {
      "cell_type": "code",
      "execution_count": 8,
      "metadata": {
        "id": "n403DMxaGmhi"
      },
      "outputs": [],
      "source": [
        "# xx = x[1]\n",
        "# pred = new_model(xx[0], task='regressor')\n",
        "# label = xx[-1]\n",
        "# print(pred)\n",
        "# print(label)"
      ]
    },
    {
      "cell_type": "code",
      "execution_count": 9,
      "metadata": {
        "id": "6ZAUwtUYBYcu"
      },
      "outputs": [],
      "source": [
        "# new_model(spectgram.unsqueeze(0).to(dtype=torch.float), task='ft_regressor', y=torch.Tensor([[float(xx[-1])]]))"
      ]
    },
    {
      "cell_type": "markdown",
      "metadata": {
        "id": "weDWTYVZR41O"
      },
      "source": [
        "# Training the Model"
      ]
    },
    {
      "cell_type": "code",
      "execution_count": 10,
      "metadata": {
        "id": "yFYsUHWhStli"
      },
      "outputs": [],
      "source": [
        "# batch_size = 16\n",
        "# trainloader = DataLoader(trainset, batch_size=batch_size,\n",
        "#                             shuffle=True, num_workers=0)\n",
        "# valloader = DataLoader(valset, batch_size=batch_size,\n",
        "#                         shuffle=True, num_workers=0)\n"
      ]
    },
    {
      "cell_type": "code",
      "execution_count": 11,
      "metadata": {
        "id": "-hsg9FlTMo0d"
      },
      "outputs": [],
      "source": [
        "# torch.cuda.empty_cache()"
      ]
    },
    {
      "cell_type": "code",
      "execution_count": 12,
      "metadata": {
        "id": "Af1-XdkyRhxs"
      },
      "outputs": [],
      "source": [
        "def train_loop(trainloader, valloader, model, epochs = 30):\n",
        "  model = model.to(device)\n",
        "  train_losses, val_losses = [], []\n",
        "  train_accs, val_accs = [], []\n",
        "  for e in range(epochs):\n",
        "      running_loss = 0\n",
        "      train_correct = 0\n",
        "      model.train()\n",
        "      for images, labels in tqdm_notebook(trainloader):\n",
        "\n",
        "          images = images.to(device, dtype=torch.float)\n",
        "          labels = labels.to(device, dtype=torch.float)\n",
        "          loss = model(images.squeeze(1), task='ft_regressor', y=labels.unsqueeze(-1))\n",
        "          loss = loss.item()\n",
        "          # print(loss)\n",
        "          running_loss += loss\n",
        "          \n",
        "          # ##evaluating without dropout\n",
        "          # with torch.no_grad():\n",
        "          #   model.eval()\n",
        "          #   logits = model(images.to(device))\n",
        "          #   ps = torch.softmax(logits,dim=1)\n",
        "          #   top_ps, top_class = ps.topk(1,dim=1)\n",
        "          #   train_equals_batch = top_class == (labels.view(*top_class.shape))\n",
        "          #   train_correct +=train_equals_batch.sum().item()\n",
        "          \n",
        "          # model.train()\n",
        "          \n",
        "          \n",
        "      else:\n",
        "          running_val_loss = 0\n",
        "          val_correct = 0\n",
        "          \n",
        "          with torch.no_grad():\n",
        "              model.eval()\n",
        "              for images, labels in tqdm_notebook(valloader):  \n",
        "                  images = images.to(device, dtype=torch.float)\n",
        "                  labels = labels.to(device, dtype=torch.float)\n",
        "                  pred = model(images.squeeze(1), task='regressor', y=labels.unsqueeze(-1))\n",
        "                  criterion = nn.MSELoss()\n",
        "                  loss = criterion(pred, labels.unsqueeze(-1).to(device, dtype = float))\n",
        "                  loss = loss.item()\n",
        "                  running_val_loss += loss\n",
        "\n",
        "                  # ps = torch.softmax(logits, dim=1)\n",
        "                  # top_ps, top_class = ps.topk(1,dim=1)\n",
        "                  # equals_batch = top_class == labels.view(*top_class.shape)\n",
        "                  # test_correct +=equals_batch.sum().item()\n",
        "              model.train()\n",
        "          \n",
        "          training_loss = running_loss/len(trainloader)\n",
        "          val_loss = running_val_loss/len(valloader)\n",
        "          train_accuracy = 0 # train_correct/len(trainloader.dataset)\n",
        "          val_accuracy = 0 #test_correct/len(testloader.dataset)\n",
        "          torch.save(model.state_dict(),'model.pth')\n",
        "\n",
        "          \n",
        "          train_losses.append(training_loss)\n",
        "          val_losses.append(val_loss)\n",
        "          train_accs.append(train_accuracy)\n",
        "          val_accs.append(val_accuracy)\n",
        "          print(\"Epoch: {}/{}.. \".format(e+1, epochs),\n",
        "                \"Training Loss: {:.3f}.. \".format(training_loss),\n",
        "                \"Test Loss: {:.3f}.. \".format(val_loss),\n",
        "                \"Train Accuracy: {:.3f}\".format(train_accuracy),\n",
        "                \"Test Accuracy: {:.3f}\".format(val_accuracy))\n",
        "  return train_losses, train_accs, val_losses, val_accs  "
      ]
    },
    {
      "cell_type": "code",
      "execution_count": 13,
      "metadata": {
        "id": "ceyvvKejgTe2"
      },
      "outputs": [],
      "source": [
        "# new_model = ASTModelRoei()\n",
        "# new_model.to(device)\n",
        "# trainloss,trainacc,valloss,valacc = train_loop(trainloader, valloader, model = new_model, epochs = 30)\n",
        "# torch.cuda.empty_cache()\n",
        "# !nvidia-smi"
      ]
    },
    {
      "cell_type": "code",
      "execution_count": 14,
      "metadata": {
        "id": "t1Cwj7zUQCsm"
      },
      "outputs": [],
      "source": [
        "# Save the model itself\n",
        "# torch.save(new_model, 'model_30e_clean.pth')\n",
        "\n",
        "# Save the model's weights\n",
        "# torch.save(new_model.state_dict(), 'model_weights_30e_clean.pth')"
      ]
    },
    {
      "cell_type": "code",
      "execution_count": 15,
      "metadata": {
        "id": "t_JCRRt8GFc5"
      },
      "outputs": [],
      "source": [
        "# plt.figure(figsize = (8,8))\n",
        "# plt.plot(trainloss,label = 'Training loss')\n",
        "# plt.plot(valloss,label = 'Validation loss')\n",
        "# plt.legend(frameon=False)\n",
        "\n",
        "# # plt.figure(figsize = (8,8))\n",
        "# # plt.plot(train_accs_d,label = 'Training Accuracy')\n",
        "# # plt.plot(test_accs_d,label = 'Validation Accuracy')\n",
        "# # plt.legend(frameon=False)"
      ]
    },
    {
      "cell_type": "markdown",
      "metadata": {
        "id": "mleRod1f9xm4"
      },
      "source": [
        "# Load an existing model"
      ]
    },
    {
      "cell_type": "code",
      "execution_count": 16,
      "metadata": {
        "colab": {
          "base_uri": "https://localhost:8080/"
        },
        "id": "hkFPSj5zTl_v",
        "outputId": "edee244c-b801-4e02-86bc-070054b8020e"
      },
      "outputs": [
        {
          "name": "stdout",
          "output_type": "stream",
          "text": [
            "now load a SSL pretrained models from /content/ssast/pretrained_model/SSAST-Tiny-Patch-400.pth\n",
            "pretraining patch split stride: frequency=16, time=16\n",
            "pretraining patch shape: frequency=16, time=16\n",
            "pretraining patch array dimension: frequency=8, time=64\n",
            "pretraining number of patches=512\n",
            "fine-tuning patch split stride: frequncey=10, time=10\n",
            "fine-tuning number of patches=1212\n"
          ]
        },
        {
          "name": "stderr",
          "output_type": "stream",
          "text": [
            "/usr/local/lib/python3.7/dist-packages/torch/nn/functional.py:3613: UserWarning: Default upsampling behavior when mode=bilinear is changed to align_corners=False since 0.4.0. Please specify align_corners=True if the old behavior is desired. See the documentation of nn.Upsample for details.\n",
            "  \"See the documentation of nn.Upsample for details.\".format(mode)\n"
          ]
        },
        {
          "data": {
            "text/plain": [
              "ASTModelRoei(\n",
              "  (v): DistilledVisionTransformer(\n",
              "    (patch_embed): PatchEmbed(\n",
              "      (proj): Conv2d(1, 192, kernel_size=(16, 16), stride=(10, 10))\n",
              "    )\n",
              "    (pos_drop): Dropout(p=0.0, inplace=False)\n",
              "    (blocks): ModuleList(\n",
              "      (0): Block(\n",
              "        (norm1): LayerNorm((192,), eps=1e-06, elementwise_affine=True)\n",
              "        (attn): Attention(\n",
              "          (qkv): Linear(in_features=192, out_features=576, bias=True)\n",
              "          (attn_drop): Dropout(p=0.0, inplace=False)\n",
              "          (proj): Linear(in_features=192, out_features=192, bias=True)\n",
              "          (proj_drop): Dropout(p=0.0, inplace=False)\n",
              "        )\n",
              "        (drop_path): Identity()\n",
              "        (norm2): LayerNorm((192,), eps=1e-06, elementwise_affine=True)\n",
              "        (mlp): Mlp(\n",
              "          (fc1): Linear(in_features=192, out_features=768, bias=True)\n",
              "          (act): GELU()\n",
              "          (fc2): Linear(in_features=768, out_features=192, bias=True)\n",
              "          (drop): Dropout(p=0.0, inplace=False)\n",
              "        )\n",
              "      )\n",
              "      (1): Block(\n",
              "        (norm1): LayerNorm((192,), eps=1e-06, elementwise_affine=True)\n",
              "        (attn): Attention(\n",
              "          (qkv): Linear(in_features=192, out_features=576, bias=True)\n",
              "          (attn_drop): Dropout(p=0.0, inplace=False)\n",
              "          (proj): Linear(in_features=192, out_features=192, bias=True)\n",
              "          (proj_drop): Dropout(p=0.0, inplace=False)\n",
              "        )\n",
              "        (drop_path): Identity()\n",
              "        (norm2): LayerNorm((192,), eps=1e-06, elementwise_affine=True)\n",
              "        (mlp): Mlp(\n",
              "          (fc1): Linear(in_features=192, out_features=768, bias=True)\n",
              "          (act): GELU()\n",
              "          (fc2): Linear(in_features=768, out_features=192, bias=True)\n",
              "          (drop): Dropout(p=0.0, inplace=False)\n",
              "        )\n",
              "      )\n",
              "      (2): Block(\n",
              "        (norm1): LayerNorm((192,), eps=1e-06, elementwise_affine=True)\n",
              "        (attn): Attention(\n",
              "          (qkv): Linear(in_features=192, out_features=576, bias=True)\n",
              "          (attn_drop): Dropout(p=0.0, inplace=False)\n",
              "          (proj): Linear(in_features=192, out_features=192, bias=True)\n",
              "          (proj_drop): Dropout(p=0.0, inplace=False)\n",
              "        )\n",
              "        (drop_path): Identity()\n",
              "        (norm2): LayerNorm((192,), eps=1e-06, elementwise_affine=True)\n",
              "        (mlp): Mlp(\n",
              "          (fc1): Linear(in_features=192, out_features=768, bias=True)\n",
              "          (act): GELU()\n",
              "          (fc2): Linear(in_features=768, out_features=192, bias=True)\n",
              "          (drop): Dropout(p=0.0, inplace=False)\n",
              "        )\n",
              "      )\n",
              "      (3): Block(\n",
              "        (norm1): LayerNorm((192,), eps=1e-06, elementwise_affine=True)\n",
              "        (attn): Attention(\n",
              "          (qkv): Linear(in_features=192, out_features=576, bias=True)\n",
              "          (attn_drop): Dropout(p=0.0, inplace=False)\n",
              "          (proj): Linear(in_features=192, out_features=192, bias=True)\n",
              "          (proj_drop): Dropout(p=0.0, inplace=False)\n",
              "        )\n",
              "        (drop_path): Identity()\n",
              "        (norm2): LayerNorm((192,), eps=1e-06, elementwise_affine=True)\n",
              "        (mlp): Mlp(\n",
              "          (fc1): Linear(in_features=192, out_features=768, bias=True)\n",
              "          (act): GELU()\n",
              "          (fc2): Linear(in_features=768, out_features=192, bias=True)\n",
              "          (drop): Dropout(p=0.0, inplace=False)\n",
              "        )\n",
              "      )\n",
              "      (4): Block(\n",
              "        (norm1): LayerNorm((192,), eps=1e-06, elementwise_affine=True)\n",
              "        (attn): Attention(\n",
              "          (qkv): Linear(in_features=192, out_features=576, bias=True)\n",
              "          (attn_drop): Dropout(p=0.0, inplace=False)\n",
              "          (proj): Linear(in_features=192, out_features=192, bias=True)\n",
              "          (proj_drop): Dropout(p=0.0, inplace=False)\n",
              "        )\n",
              "        (drop_path): Identity()\n",
              "        (norm2): LayerNorm((192,), eps=1e-06, elementwise_affine=True)\n",
              "        (mlp): Mlp(\n",
              "          (fc1): Linear(in_features=192, out_features=768, bias=True)\n",
              "          (act): GELU()\n",
              "          (fc2): Linear(in_features=768, out_features=192, bias=True)\n",
              "          (drop): Dropout(p=0.0, inplace=False)\n",
              "        )\n",
              "      )\n",
              "      (5): Block(\n",
              "        (norm1): LayerNorm((192,), eps=1e-06, elementwise_affine=True)\n",
              "        (attn): Attention(\n",
              "          (qkv): Linear(in_features=192, out_features=576, bias=True)\n",
              "          (attn_drop): Dropout(p=0.0, inplace=False)\n",
              "          (proj): Linear(in_features=192, out_features=192, bias=True)\n",
              "          (proj_drop): Dropout(p=0.0, inplace=False)\n",
              "        )\n",
              "        (drop_path): Identity()\n",
              "        (norm2): LayerNorm((192,), eps=1e-06, elementwise_affine=True)\n",
              "        (mlp): Mlp(\n",
              "          (fc1): Linear(in_features=192, out_features=768, bias=True)\n",
              "          (act): GELU()\n",
              "          (fc2): Linear(in_features=768, out_features=192, bias=True)\n",
              "          (drop): Dropout(p=0.0, inplace=False)\n",
              "        )\n",
              "      )\n",
              "      (6): Block(\n",
              "        (norm1): LayerNorm((192,), eps=1e-06, elementwise_affine=True)\n",
              "        (attn): Attention(\n",
              "          (qkv): Linear(in_features=192, out_features=576, bias=True)\n",
              "          (attn_drop): Dropout(p=0.0, inplace=False)\n",
              "          (proj): Linear(in_features=192, out_features=192, bias=True)\n",
              "          (proj_drop): Dropout(p=0.0, inplace=False)\n",
              "        )\n",
              "        (drop_path): Identity()\n",
              "        (norm2): LayerNorm((192,), eps=1e-06, elementwise_affine=True)\n",
              "        (mlp): Mlp(\n",
              "          (fc1): Linear(in_features=192, out_features=768, bias=True)\n",
              "          (act): GELU()\n",
              "          (fc2): Linear(in_features=768, out_features=192, bias=True)\n",
              "          (drop): Dropout(p=0.0, inplace=False)\n",
              "        )\n",
              "      )\n",
              "      (7): Block(\n",
              "        (norm1): LayerNorm((192,), eps=1e-06, elementwise_affine=True)\n",
              "        (attn): Attention(\n",
              "          (qkv): Linear(in_features=192, out_features=576, bias=True)\n",
              "          (attn_drop): Dropout(p=0.0, inplace=False)\n",
              "          (proj): Linear(in_features=192, out_features=192, bias=True)\n",
              "          (proj_drop): Dropout(p=0.0, inplace=False)\n",
              "        )\n",
              "        (drop_path): Identity()\n",
              "        (norm2): LayerNorm((192,), eps=1e-06, elementwise_affine=True)\n",
              "        (mlp): Mlp(\n",
              "          (fc1): Linear(in_features=192, out_features=768, bias=True)\n",
              "          (act): GELU()\n",
              "          (fc2): Linear(in_features=768, out_features=192, bias=True)\n",
              "          (drop): Dropout(p=0.0, inplace=False)\n",
              "        )\n",
              "      )\n",
              "      (8): Block(\n",
              "        (norm1): LayerNorm((192,), eps=1e-06, elementwise_affine=True)\n",
              "        (attn): Attention(\n",
              "          (qkv): Linear(in_features=192, out_features=576, bias=True)\n",
              "          (attn_drop): Dropout(p=0.0, inplace=False)\n",
              "          (proj): Linear(in_features=192, out_features=192, bias=True)\n",
              "          (proj_drop): Dropout(p=0.0, inplace=False)\n",
              "        )\n",
              "        (drop_path): Identity()\n",
              "        (norm2): LayerNorm((192,), eps=1e-06, elementwise_affine=True)\n",
              "        (mlp): Mlp(\n",
              "          (fc1): Linear(in_features=192, out_features=768, bias=True)\n",
              "          (act): GELU()\n",
              "          (fc2): Linear(in_features=768, out_features=192, bias=True)\n",
              "          (drop): Dropout(p=0.0, inplace=False)\n",
              "        )\n",
              "      )\n",
              "      (9): Block(\n",
              "        (norm1): LayerNorm((192,), eps=1e-06, elementwise_affine=True)\n",
              "        (attn): Attention(\n",
              "          (qkv): Linear(in_features=192, out_features=576, bias=True)\n",
              "          (attn_drop): Dropout(p=0.0, inplace=False)\n",
              "          (proj): Linear(in_features=192, out_features=192, bias=True)\n",
              "          (proj_drop): Dropout(p=0.0, inplace=False)\n",
              "        )\n",
              "        (drop_path): Identity()\n",
              "        (norm2): LayerNorm((192,), eps=1e-06, elementwise_affine=True)\n",
              "        (mlp): Mlp(\n",
              "          (fc1): Linear(in_features=192, out_features=768, bias=True)\n",
              "          (act): GELU()\n",
              "          (fc2): Linear(in_features=768, out_features=192, bias=True)\n",
              "          (drop): Dropout(p=0.0, inplace=False)\n",
              "        )\n",
              "      )\n",
              "      (10): Block(\n",
              "        (norm1): LayerNorm((192,), eps=1e-06, elementwise_affine=True)\n",
              "        (attn): Attention(\n",
              "          (qkv): Linear(in_features=192, out_features=576, bias=True)\n",
              "          (attn_drop): Dropout(p=0.0, inplace=False)\n",
              "          (proj): Linear(in_features=192, out_features=192, bias=True)\n",
              "          (proj_drop): Dropout(p=0.0, inplace=False)\n",
              "        )\n",
              "        (drop_path): Identity()\n",
              "        (norm2): LayerNorm((192,), eps=1e-06, elementwise_affine=True)\n",
              "        (mlp): Mlp(\n",
              "          (fc1): Linear(in_features=192, out_features=768, bias=True)\n",
              "          (act): GELU()\n",
              "          (fc2): Linear(in_features=768, out_features=192, bias=True)\n",
              "          (drop): Dropout(p=0.0, inplace=False)\n",
              "        )\n",
              "      )\n",
              "      (11): Block(\n",
              "        (norm1): LayerNorm((192,), eps=1e-06, elementwise_affine=True)\n",
              "        (attn): Attention(\n",
              "          (qkv): Linear(in_features=192, out_features=576, bias=True)\n",
              "          (attn_drop): Dropout(p=0.0, inplace=False)\n",
              "          (proj): Linear(in_features=192, out_features=192, bias=True)\n",
              "          (proj_drop): Dropout(p=0.0, inplace=False)\n",
              "        )\n",
              "        (drop_path): Identity()\n",
              "        (norm2): LayerNorm((192,), eps=1e-06, elementwise_affine=True)\n",
              "        (mlp): Mlp(\n",
              "          (fc1): Linear(in_features=192, out_features=768, bias=True)\n",
              "          (act): GELU()\n",
              "          (fc2): Linear(in_features=768, out_features=192, bias=True)\n",
              "          (drop): Dropout(p=0.0, inplace=False)\n",
              "        )\n",
              "      )\n",
              "    )\n",
              "    (norm): LayerNorm((192,), eps=1e-06, elementwise_affine=True)\n",
              "    (pre_logits): Identity()\n",
              "    (head): Linear(in_features=192, out_features=1000, bias=True)\n",
              "    (head_dist): Linear(in_features=192, out_features=1000, bias=True)\n",
              "  )\n",
              "  (mlp_head): Sequential(\n",
              "    (0): LayerNorm((192,), eps=1e-05, elementwise_affine=True)\n",
              "    (1): Linear(in_features=192, out_features=527, bias=True)\n",
              "  )\n",
              "  (regressor_head): Sequential(\n",
              "    (0): LayerNorm((192,), eps=1e-05, elementwise_affine=True)\n",
              "    (1): Linear(in_features=192, out_features=1, bias=True)\n",
              "  )\n",
              ")"
            ]
          },
          "execution_count": 16,
          "metadata": {},
          "output_type": "execute_result"
        }
      ],
      "source": [
        "new_model = ASTModelRoei()\n",
        "new_model.load_state_dict(torch.load('/content/ssast/pretrained_model/model_weights_30e_cleanV1.pth'))\n",
        "new_model.eval()\n",
        "new_model.to(device)"
      ]
    },
    {
      "cell_type": "markdown",
      "metadata": {
        "id": "cPAlG0379WWE"
      },
      "source": [
        "# Analyze results"
      ]
    },
    {
      "cell_type": "markdown",
      "metadata": {
        "id": "0pSudm4yP2v0"
      },
      "source": [
        "## Functions"
      ]
    },
    {
      "cell_type": "code",
      "execution_count": 32,
      "metadata": {
        "id": "SQKed6ZGvmqv"
      },
      "outputs": [],
      "source": [
        "def get_sample_results(model, dataset):\n",
        "    data_size = len(dataset.indices)\n",
        "    if data_size < 256:\n",
        "        dataloader = DataLoader(dataset, batch_size=data_size,\n",
        "                                shuffle=True, num_workers=0)\n",
        "        images, labels = next(iter(dataloader))\n",
        "        with torch.no_grad():\n",
        "            model.eval()\n",
        "            preds = model(images.squeeze(1).to(device, dtype=torch.float), task='regressor')\n",
        "            diff = preds.squeeze().cpu() - labels.squeeze().cpu()\n",
        "            rmse = torch.sqrt(torch.mean(torch.square(diff)))\n",
        "    else:\n",
        "        batch_size = 256\n",
        "        dataloader = DataLoader(dataset, batch_size=batch_size,\n",
        "                                shuffle=True, num_workers=0)\n",
        "        labels = torch.tensor((), device=device)\n",
        "        preds = torch.tensor((), device=device)\n",
        "        diff = torch.tensor(())\n",
        "        with torch.no_grad():\n",
        "            model.eval()\n",
        "            for batch_images, batch_labels in dataloader:\n",
        "                batch_images = batch_images.to(device, dtype=torch.float)\n",
        "                batch_labels = batch_labels.to(device, dtype=torch.float)\n",
        "                batch_preds = model(batch_images.squeeze(1), task='regressor')\n",
        "                batch_diff = batch_preds.squeeze().cpu() - batch_labels.squeeze().cpu()\n",
        "                labels = torch.cat([labels, batch_labels], dim=0)\n",
        "                preds = torch.cat([preds, batch_preds], dim=0)\n",
        "                diff = torch.cat([diff, batch_diff], dim=0)\n",
        "            rmse = torch.sqrt(torch.mean(torch.square(diff)))\n",
        "    print(f\"Dataset RMSE is {rmse:.2f}\")\n",
        "    return pd.DataFrame({'pred': preds.cpu().squeeze(), \n",
        "                         'label': labels.cpu().squeeze(), \n",
        "                         'diff' :diff, \n",
        "                         'abs_diff': diff.abs()})"
      ]
    },
    {
      "cell_type": "code",
      "execution_count": 18,
      "metadata": {
        "id": "X9NaB20Dy3ko"
      },
      "outputs": [],
      "source": [
        "def analyze_sample_results(stats_df):\n",
        "    # Scatter plot with linear trend y=x\n",
        "    lin_min = np.min([stats_df['pred'].min(), stats_df['label'].min()])\n",
        "    lin_max = np.max([stats_df['pred'].max(), stats_df['label'].max()])\n",
        "    plt.figure(figsize=(15, 9))\n",
        "    plt.scatter(stats_df['label'], stats_df['pred'])\n",
        "    plt.plot([lin_min, lin_max], [lin_min, lin_max], color='red')\n",
        "    plt.title(\"Model prediction vs. label\", size=18)\n",
        "    plt.xlabel(\"Label\", size=16)\n",
        "    plt.ylabel(\"Prediction\", size=16)\n",
        "    plt.show()\n",
        "\n",
        "    # Error histogram\n",
        "    plt.figure(figsize=(15, 9))\n",
        "    plt.hist(stats_df['diff'], bins=100)\n",
        "    plt.title(\"Model's error distribution\", size=18)\n",
        "    plt.xlabel(\"Error\", size=16)\n",
        "    plt.ylabel(\"Amount\", size=16)\n",
        "    plt.show()\n",
        "\n",
        "    # Diff statistics\n",
        "    display(stats_df.describe([.1, .25, .5, .75, .9])[['abs_diff']].T)"
      ]
    },
    {
      "cell_type": "markdown",
      "metadata": {
        "id": "YjPINViQht1G"
      },
      "source": [
        "## Test analysis"
      ]
    },
    {
      "cell_type": "code",
      "execution_count": 47,
      "metadata": {
        "colab": {
          "base_uri": "https://localhost:8080/",
          "height": 1000
        },
        "id": "4QxdacC80Jbd",
        "outputId": "f89dd622-0325-41b6-9628-0cb5856d1e37"
      },
      "outputs": [
        {
          "name": "stdout",
          "output_type": "stream",
          "text": [
            "Dataset RMSE is 2.20\n"
          ]
        },
        {
          "data": {
            "image/png": "[encoded data removed]",
            "text/plain": [
              "<Figure size 1080x648 with 1 Axes>"
            ]
          },
          "metadata": {
            "needs_background": "light"
          },
          "output_type": "display_data"
        },
        {
          "data": {
            "image/png": "[encoded data removed]",
            "text/plain": [
              "<Figure size 1080x648 with 1 Axes>"
            ]
          },
          "metadata": {
            "needs_background": "light"
          },
          "output_type": "display_data"
        },
        {
          "data": {
            "text/html": [
              "\n",
              "  <div id=\"df-b3e328c1-7474-4ae7-a741-cc9ea7ff8d79\">\n",
              "    <div class=\"colab-df-container\">\n",
              "      <div>\n",
              "<style scoped>\n",
              "    .dataframe tbody tr th:only-of-type {\n",
              "        vertical-align: middle;\n",
              "    }\n",
              "\n",
              "    .dataframe tbody tr th {\n",
              "        vertical-align: top;\n",
              "    }\n",
              "\n",
              "    .dataframe thead th {\n",
              "        text-align: right;\n",
              "    }\n",
              "</style>\n",
              "<table border=\"1\" class=\"dataframe\">\n",
              "  <thead>\n",
              "    <tr style=\"text-align: right;\">\n",
              "      <th></th>\n",
              "      <th>count</th>\n",
              "      <th>mean</th>\n",
              "      <th>std</th>\n",
              "      <th>min</th>\n",
              "      <th>10%</th>\n",
              "      <th>25%</th>\n",
              "      <th>50%</th>\n",
              "      <th>75%</th>\n",
              "      <th>90%</th>\n",
              "      <th>max</th>\n",
              "    </tr>\n",
              "  </thead>\n",
              "  <tbody>\n",
              "    <tr>\n",
              "      <th>abs_diff</th>\n",
              "      <td>172.0</td>\n",
              "      <td>1.444188</td>\n",
              "      <td>1.669972</td>\n",
              "      <td>0.014137</td>\n",
              "      <td>0.129388</td>\n",
              "      <td>0.427111</td>\n",
              "      <td>0.930632</td>\n",
              "      <td>1.848516</td>\n",
              "      <td>3.358989</td>\n",
              "      <td>12.475322</td>\n",
              "    </tr>\n",
              "  </tbody>\n",
              "</table>\n",
              "</div>\n",
              "      <button class=\"colab-df-convert\" onclick=\"convertToInteractive('df-b3e328c1-7474-4ae7-a741-cc9ea7ff8d79')\"\n",
              "              title=\"Convert this dataframe to an interactive table.\"\n",
              "              style=\"display:none;\">\n",
              "        \n",
              "  <svg xmlns=\"http://www.w3.org/2000/svg\" height=\"24px\"viewBox=\"0 0 24 24\"\n",
              "       width=\"24px\">\n",
              "    <path d=\"M0 0h24v24H0V0z\" fill=\"none\"/>\n",
              "    <path d=\"M18.56 5.44l.94 2.06.94-2.06 2.06-.94-2.06-.94-.94-2.06-.94 2.06-2.06.94zm-11 1L8.5 8.5l.94-2.06 2.06-.94-2.06-.94L8.5 2.5l-.94 2.06-2.06.94zm10 10l.94 2.06.94-2.06 2.06-.94-2.06-.94-.94-2.06-.94 2.06-2.06.94z\"/><path d=\"M17.41 7.96l-1.37-1.37c-.4-.4-.92-.59-1.43-.59-.52 0-1.04.2-1.43.59L10.3 9.45l-7.72 7.72c-.78.78-.78 2.05 0 2.83L4 21.41c.39.39.9.59 1.41.59.51 0 1.02-.2 1.41-.59l7.78-7.78 2.81-2.81c.8-.78.8-2.07 0-2.86zM5.41 20L4 18.59l7.72-7.72 1.47 1.35L5.41 20z\"/>\n",
              "  </svg>\n",
              "      </button>\n",
              "      \n",
              "  <style>\n",
              "    .colab-df-container {\n",
              "      display:flex;\n",
              "      flex-wrap:wrap;\n",
              "      gap: 12px;\n",
              "    }\n",
              "\n",
              "    .colab-df-convert {\n",
              "      background-color: #E8F0FE;\n",
              "      border: none;\n",
              "      border-radius: 50%;\n",
              "      cursor: pointer;\n",
              "      display: none;\n",
              "      fill: #1967D2;\n",
              "      height: 32px;\n",
              "      padding: 0 0 0 0;\n",
              "      width: 32px;\n",
              "    }\n",
              "\n",
              "    .colab-df-convert:hover {\n",
              "      background-color: #E2EBFA;\n",
              "      box-shadow: 0px 1px 2px rgba(60, 64, 67, 0.3), 0px 1px 3px 1px rgba(60, 64, 67, 0.15);\n",
              "      fill: #174EA6;\n",
              "    }\n",
              "\n",
              "    [theme=dark] .colab-df-convert {\n",
              "      background-color: #3B4455;\n",
              "      fill: #D2E3FC;\n",
              "    }\n",
              "\n",
              "    [theme=dark] .colab-df-convert:hover {\n",
              "      background-color: #434B5C;\n",
              "      box-shadow: 0px 1px 3px 1px rgba(0, 0, 0, 0.15);\n",
              "      filter: drop-shadow(0px 1px 2px rgba(0, 0, 0, 0.3));\n",
              "      fill: #FFFFFF;\n",
              "    }\n",
              "  </style>\n",
              "\n",
              "      <script>\n",
              "        const buttonEl =\n",
              "          document.querySelector('#df-b3e328c1-7474-4ae7-a741-cc9ea7ff8d79 button.colab-df-convert');\n",
              "        buttonEl.style.display =\n",
              "          google.colab.kernel.accessAllowed ? 'block' : 'none';\n",
              "\n",
              "        async function convertToInteractive(key) {\n",
              "          const element = document.querySelector('#df-b3e328c1-7474-4ae7-a741-cc9ea7ff8d79');\n",
              "          const dataTable =\n",
              "            await google.colab.kernel.invokeFunction('convertToInteractive',\n",
              "                                                     [key], {});\n",
              "          if (!dataTable) return;\n",
              "\n",
              "          const docLinkHtml = 'Like what you see? Visit the ' +\n",
              "            '<a target=\"_blank\" href=https://colab.research.google.com/notebooks/data_table.ipynb>data table notebook</a>'\n",
              "            + ' to learn more about interactive tables.';\n",
              "          element.innerHTML = '';\n",
              "          dataTable['output_type'] = 'display_data';\n",
              "          await google.colab.output.renderOutput(dataTable, element);\n",
              "          const docLink = document.createElement('div');\n",
              "          docLink.innerHTML = docLinkHtml;\n",
              "          element.appendChild(docLink);\n",
              "        }\n",
              "      </script>\n",
              "    </div>\n",
              "  </div>\n",
              "  "
            ],
            "text/plain": [
              "          count      mean       std       min       10%       25%       50%  \\\n",
              "abs_diff  172.0  1.444188  1.669972  0.014137  0.129388  0.427111  0.930632   \n",
              "\n",
              "               75%       90%        max  \n",
              "abs_diff  1.848516  3.358989  12.475322  "
            ]
          },
          "metadata": {},
          "output_type": "display_data"
        }
      ],
      "source": [
        "test_df = get_sample_results(new_model, testset)\n",
        "analyze_sample_results(test_df)\n",
        "torch.cuda.empty_cache()"
      ]
    },
    {
      "cell_type": "markdown",
      "metadata": {
        "id": "rlFV1dsVvHGJ"
      },
      "source": [
        "## Train & Validation analysis"
      ]
    },
    {
      "cell_type": "code",
      "execution_count": 49,
      "metadata": {
        "colab": {
          "base_uri": "https://localhost:8080/",
          "height": 1000
        },
        "id": "leTZ_ZS0zqvX",
        "outputId": "83945208-f54f-4a68-d95d-37705b63d410"
      },
      "outputs": [
        {
          "name": "stdout",
          "output_type": "stream",
          "text": [
            "Dataset RMSE is 2.37\n"
          ]
        },
        {
          "data": {
            "image/png": "[encoded data removed]",
            "text/plain": [
              "<Figure size 1080x648 with 1 Axes>"
            ]
          },
          "metadata": {
            "needs_background": "light"
          },
          "output_type": "display_data"
        },
        {
          "data": {
            "image/png": "[encoded data removed]",
            "text/plain": [
              "<Figure size 1080x648 with 1 Axes>"
            ]
          },
          "metadata": {
            "needs_background": "light"
          },
          "output_type": "display_data"
        },
        {
          "data": {
            "text/html": [
              "\n",
              "  <div id=\"df-200a5304-4ca7-4aea-bbab-5584102c04e1\">\n",
              "    <div class=\"colab-df-container\">\n",
              "      <div>\n",
              "<style scoped>\n",
              "    .dataframe tbody tr th:only-of-type {\n",
              "        vertical-align: middle;\n",
              "    }\n",
              "\n",
              "    .dataframe tbody tr th {\n",
              "        vertical-align: top;\n",
              "    }\n",
              "\n",
              "    .dataframe thead th {\n",
              "        text-align: right;\n",
              "    }\n",
              "</style>\n",
              "<table border=\"1\" class=\"dataframe\">\n",
              "  <thead>\n",
              "    <tr style=\"text-align: right;\">\n",
              "      <th></th>\n",
              "      <th>count</th>\n",
              "      <th>mean</th>\n",
              "      <th>std</th>\n",
              "      <th>min</th>\n",
              "      <th>10%</th>\n",
              "      <th>25%</th>\n",
              "      <th>50%</th>\n",
              "      <th>75%</th>\n",
              "      <th>90%</th>\n",
              "      <th>max</th>\n",
              "    </tr>\n",
              "  </thead>\n",
              "  <tbody>\n",
              "    <tr>\n",
              "      <th>abs_diff</th>\n",
              "      <td>3000.0</td>\n",
              "      <td>1.5404</td>\n",
              "      <td>1.798566</td>\n",
              "      <td>0.000019</td>\n",
              "      <td>0.186415</td>\n",
              "      <td>0.465621</td>\n",
              "      <td>1.012581</td>\n",
              "      <td>2.012798</td>\n",
              "      <td>3.624754</td>\n",
              "      <td>39.060341</td>\n",
              "    </tr>\n",
              "  </tbody>\n",
              "</table>\n",
              "</div>\n",
              "      <button class=\"colab-df-convert\" onclick=\"convertToInteractive('df-200a5304-4ca7-4aea-bbab-5584102c04e1')\"\n",
              "              title=\"Convert this dataframe to an interactive table.\"\n",
              "              style=\"display:none;\">\n",
              "        \n",
              "  <svg xmlns=\"http://www.w3.org/2000/svg\" height=\"24px\"viewBox=\"0 0 24 24\"\n",
              "       width=\"24px\">\n",
              "    <path d=\"M0 0h24v24H0V0z\" fill=\"none\"/>\n",
              "    <path d=\"M18.56 5.44l.94 2.06.94-2.06 2.06-.94-2.06-.94-.94-2.06-.94 2.06-2.06.94zm-11 1L8.5 8.5l.94-2.06 2.06-.94-2.06-.94L8.5 2.5l-.94 2.06-2.06.94zm10 10l.94 2.06.94-2.06 2.06-.94-2.06-.94-.94-2.06-.94 2.06-2.06.94z\"/><path d=\"M17.41 7.96l-1.37-1.37c-.4-.4-.92-.59-1.43-.59-.52 0-1.04.2-1.43.59L10.3 9.45l-7.72 7.72c-.78.78-.78 2.05 0 2.83L4 21.41c.39.39.9.59 1.41.59.51 0 1.02-.2 1.41-.59l7.78-7.78 2.81-2.81c.8-.78.8-2.07 0-2.86zM5.41 20L4 18.59l7.72-7.72 1.47 1.35L5.41 20z\"/>\n",
              "  </svg>\n",
              "      </button>\n",
              "      \n",
              "  <style>\n",
              "    .colab-df-container {\n",
              "      display:flex;\n",
              "      flex-wrap:wrap;\n",
              "      gap: 12px;\n",
              "    }\n",
              "\n",
              "    .colab-df-convert {\n",
              "      background-color: #E8F0FE;\n",
              "      border: none;\n",
              "      border-radius: 50%;\n",
              "      cursor: pointer;\n",
              "      display: none;\n",
              "      fill: #1967D2;\n",
              "      height: 32px;\n",
              "      padding: 0 0 0 0;\n",
              "      width: 32px;\n",
              "    }\n",
              "\n",
              "    .colab-df-convert:hover {\n",
              "      background-color: #E2EBFA;\n",
              "      box-shadow: 0px 1px 2px rgba(60, 64, 67, 0.3), 0px 1px 3px 1px rgba(60, 64, 67, 0.15);\n",
              "      fill: #174EA6;\n",
              "    }\n",
              "\n",
              "    [theme=dark] .colab-df-convert {\n",
              "      background-color: #3B4455;\n",
              "      fill: #D2E3FC;\n",
              "    }\n",
              "\n",
              "    [theme=dark] .colab-df-convert:hover {\n",
              "      background-color: #434B5C;\n",
              "      box-shadow: 0px 1px 3px 1px rgba(0, 0, 0, 0.15);\n",
              "      filter: drop-shadow(0px 1px 2px rgba(0, 0, 0, 0.3));\n",
              "      fill: #FFFFFF;\n",
              "    }\n",
              "  </style>\n",
              "\n",
              "      <script>\n",
              "        const buttonEl =\n",
              "          document.querySelector('#df-200a5304-4ca7-4aea-bbab-5584102c04e1 button.colab-df-convert');\n",
              "        buttonEl.style.display =\n",
              "          google.colab.kernel.accessAllowed ? 'block' : 'none';\n",
              "\n",
              "        async function convertToInteractive(key) {\n",
              "          const element = document.querySelector('#df-200a5304-4ca7-4aea-bbab-5584102c04e1');\n",
              "          const dataTable =\n",
              "            await google.colab.kernel.invokeFunction('convertToInteractive',\n",
              "                                                     [key], {});\n",
              "          if (!dataTable) return;\n",
              "\n",
              "          const docLinkHtml = 'Like what you see? Visit the ' +\n",
              "            '<a target=\"_blank\" href=https://colab.research.google.com/notebooks/data_table.ipynb>data table notebook</a>'\n",
              "            + ' to learn more about interactive tables.';\n",
              "          element.innerHTML = '';\n",
              "          dataTable['output_type'] = 'display_data';\n",
              "          await google.colab.output.renderOutput(dataTable, element);\n",
              "          const docLink = document.createElement('div');\n",
              "          docLink.innerHTML = docLinkHtml;\n",
              "          element.appendChild(docLink);\n",
              "        }\n",
              "      </script>\n",
              "    </div>\n",
              "  </div>\n",
              "  "
            ],
            "text/plain": [
              "           count    mean       std       min       10%       25%       50%  \\\n",
              "abs_diff  3000.0  1.5404  1.798566  0.000019  0.186415  0.465621  1.012581   \n",
              "\n",
              "               75%       90%        max  \n",
              "abs_diff  2.012798  3.624754  39.060341  "
            ]
          },
          "metadata": {},
          "output_type": "display_data"
        }
      ],
      "source": [
        "trainval_df = get_sample_results(new_model, trainval)\n",
        "analyze_sample_results(trainval_df)\n",
        "torch.cuda.empty_cache()"
      ]
    },
    {
      "cell_type": "markdown",
      "metadata": {
        "id": "ZppyOyNCUWqJ"
      },
      "source": [
        "## Find samples of largest error"
      ]
    },
    {
      "cell_type": "markdown",
      "metadata": {
        "id": "UJO9sFl7Uor3"
      },
      "source": [
        " Search \"label_{label}\" in images folder for the actual image"
      ]
    },
    {
      "cell_type": "code",
      "execution_count": 54,
      "metadata": {
        "colab": {
          "base_uri": "https://localhost:8080/",
          "height": 363
        },
        "id": "Swhgh57WSl_A",
        "outputId": "972e0978-fe29-4b34-e7bd-ab4edbfcb354"
      },
      "outputs": [
        {
          "data": {
            "text/html": [
              "\n",
              "  <div id=\"df-01bfd3d8-35c2-474b-a0dd-deeb87779150\">\n",
              "    <div class=\"colab-df-container\">\n",
              "      <div>\n",
              "<style scoped>\n",
              "    .dataframe tbody tr th:only-of-type {\n",
              "        vertical-align: middle;\n",
              "    }\n",
              "\n",
              "    .dataframe tbody tr th {\n",
              "        vertical-align: top;\n",
              "    }\n",
              "\n",
              "    .dataframe thead th {\n",
              "        text-align: right;\n",
              "    }\n",
              "</style>\n",
              "<table border=\"1\" class=\"dataframe\">\n",
              "  <thead>\n",
              "    <tr style=\"text-align: right;\">\n",
              "      <th></th>\n",
              "      <th>pred</th>\n",
              "      <th>label</th>\n",
              "      <th>diff</th>\n",
              "      <th>abs_diff</th>\n",
              "    </tr>\n",
              "  </thead>\n",
              "  <tbody>\n",
              "    <tr>\n",
              "      <th>1390</th>\n",
              "      <td>51.672859</td>\n",
              "      <td>90.733200</td>\n",
              "      <td>-39.060341</td>\n",
              "      <td>39.060341</td>\n",
              "    </tr>\n",
              "    <tr>\n",
              "      <th>155</th>\n",
              "      <td>48.299709</td>\n",
              "      <td>20.762400</td>\n",
              "      <td>27.537310</td>\n",
              "      <td>27.537310</td>\n",
              "    </tr>\n",
              "    <tr>\n",
              "      <th>1459</th>\n",
              "      <td>54.668934</td>\n",
              "      <td>81.403801</td>\n",
              "      <td>-26.734867</td>\n",
              "      <td>26.734867</td>\n",
              "    </tr>\n",
              "    <tr>\n",
              "      <th>535</th>\n",
              "      <td>50.816032</td>\n",
              "      <td>65.368797</td>\n",
              "      <td>-14.552765</td>\n",
              "      <td>14.552765</td>\n",
              "    </tr>\n",
              "    <tr>\n",
              "      <th>100</th>\n",
              "      <td>55.978222</td>\n",
              "      <td>43.502900</td>\n",
              "      <td>12.475322</td>\n",
              "      <td>12.475322</td>\n",
              "    </tr>\n",
              "    <tr>\n",
              "      <th>1245</th>\n",
              "      <td>56.011433</td>\n",
              "      <td>44.669102</td>\n",
              "      <td>11.342331</td>\n",
              "      <td>11.342331</td>\n",
              "    </tr>\n",
              "    <tr>\n",
              "      <th>1589</th>\n",
              "      <td>49.077621</td>\n",
              "      <td>59.546700</td>\n",
              "      <td>-10.469078</td>\n",
              "      <td>10.469078</td>\n",
              "    </tr>\n",
              "    <tr>\n",
              "      <th>354</th>\n",
              "      <td>51.470219</td>\n",
              "      <td>60.704102</td>\n",
              "      <td>-9.233883</td>\n",
              "      <td>9.233883</td>\n",
              "    </tr>\n",
              "    <tr>\n",
              "      <th>2897</th>\n",
              "      <td>48.591267</td>\n",
              "      <td>57.497101</td>\n",
              "      <td>-8.905834</td>\n",
              "      <td>8.905834</td>\n",
              "    </tr>\n",
              "    <tr>\n",
              "      <th>2509</th>\n",
              "      <td>47.154518</td>\n",
              "      <td>56.044701</td>\n",
              "      <td>-8.890182</td>\n",
              "      <td>8.890182</td>\n",
              "    </tr>\n",
              "  </tbody>\n",
              "</table>\n",
              "</div>\n",
              "      <button class=\"colab-df-convert\" onclick=\"convertToInteractive('df-01bfd3d8-35c2-474b-a0dd-deeb87779150')\"\n",
              "              title=\"Convert this dataframe to an interactive table.\"\n",
              "              style=\"display:none;\">\n",
              "        \n",
              "  <svg xmlns=\"http://www.w3.org/2000/svg\" height=\"24px\"viewBox=\"0 0 24 24\"\n",
              "       width=\"24px\">\n",
              "    <path d=\"M0 0h24v24H0V0z\" fill=\"none\"/>\n",
              "    <path d=\"M18.56 5.44l.94 2.06.94-2.06 2.06-.94-2.06-.94-.94-2.06-.94 2.06-2.06.94zm-11 1L8.5 8.5l.94-2.06 2.06-.94-2.06-.94L8.5 2.5l-.94 2.06-2.06.94zm10 10l.94 2.06.94-2.06 2.06-.94-2.06-.94-.94-2.06-.94 2.06-2.06.94z\"/><path d=\"M17.41 7.96l-1.37-1.37c-.4-.4-.92-.59-1.43-.59-.52 0-1.04.2-1.43.59L10.3 9.45l-7.72 7.72c-.78.78-.78 2.05 0 2.83L4 21.41c.39.39.9.59 1.41.59.51 0 1.02-.2 1.41-.59l7.78-7.78 2.81-2.81c.8-.78.8-2.07 0-2.86zM5.41 20L4 18.59l7.72-7.72 1.47 1.35L5.41 20z\"/>\n",
              "  </svg>\n",
              "      </button>\n",
              "      \n",
              "  <style>\n",
              "    .colab-df-container {\n",
              "      display:flex;\n",
              "      flex-wrap:wrap;\n",
              "      gap: 12px;\n",
              "    }\n",
              "\n",
              "    .colab-df-convert {\n",
              "      background-color: #E8F0FE;\n",
              "      border: none;\n",
              "      border-radius: 50%;\n",
              "      cursor: pointer;\n",
              "      display: none;\n",
              "      fill: #1967D2;\n",
              "      height: 32px;\n",
              "      padding: 0 0 0 0;\n",
              "      width: 32px;\n",
              "    }\n",
              "\n",
              "    .colab-df-convert:hover {\n",
              "      background-color: #E2EBFA;\n",
              "      box-shadow: 0px 1px 2px rgba(60, 64, 67, 0.3), 0px 1px 3px 1px rgba(60, 64, 67, 0.15);\n",
              "      fill: #174EA6;\n",
              "    }\n",
              "\n",
              "    [theme=dark] .colab-df-convert {\n",
              "      background-color: #3B4455;\n",
              "      fill: #D2E3FC;\n",
              "    }\n",
              "\n",
              "    [theme=dark] .colab-df-convert:hover {\n",
              "      background-color: #434B5C;\n",
              "      box-shadow: 0px 1px 3px 1px rgba(0, 0, 0, 0.15);\n",
              "      filter: drop-shadow(0px 1px 2px rgba(0, 0, 0, 0.3));\n",
              "      fill: #FFFFFF;\n",
              "    }\n",
              "  </style>\n",
              "\n",
              "      <script>\n",
              "        const buttonEl =\n",
              "          document.querySelector('#df-01bfd3d8-35c2-474b-a0dd-deeb87779150 button.colab-df-convert');\n",
              "        buttonEl.style.display =\n",
              "          google.colab.kernel.accessAllowed ? 'block' : 'none';\n",
              "\n",
              "        async function convertToInteractive(key) {\n",
              "          const element = document.querySelector('#df-01bfd3d8-35c2-474b-a0dd-deeb87779150');\n",
              "          const dataTable =\n",
              "            await google.colab.kernel.invokeFunction('convertToInteractive',\n",
              "                                                     [key], {});\n",
              "          if (!dataTable) return;\n",
              "\n",
              "          const docLinkHtml = 'Like what you see? Visit the ' +\n",
              "            '<a target=\"_blank\" href=https://colab.research.google.com/notebooks/data_table.ipynb>data table notebook</a>'\n",
              "            + ' to learn more about interactive tables.';\n",
              "          element.innerHTML = '';\n",
              "          dataTable['output_type'] = 'display_data';\n",
              "          await google.colab.output.renderOutput(dataTable, element);\n",
              "          const docLink = document.createElement('div');\n",
              "          docLink.innerHTML = docLinkHtml;\n",
              "          element.appendChild(docLink);\n",
              "        }\n",
              "      </script>\n",
              "    </div>\n",
              "  </div>\n",
              "  "
            ],
            "text/plain": [
              "           pred      label       diff   abs_diff\n",
              "1390  51.672859  90.733200 -39.060341  39.060341\n",
              "155   48.299709  20.762400  27.537310  27.537310\n",
              "1459  54.668934  81.403801 -26.734867  26.734867\n",
              "535   50.816032  65.368797 -14.552765  14.552765\n",
              "100   55.978222  43.502900  12.475322  12.475322\n",
              "1245  56.011433  44.669102  11.342331  11.342331\n",
              "1589  49.077621  59.546700 -10.469078  10.469078\n",
              "354   51.470219  60.704102  -9.233883   9.233883\n",
              "2897  48.591267  57.497101  -8.905834   8.905834\n",
              "2509  47.154518  56.044701  -8.890182   8.890182"
            ]
          },
          "execution_count": 54,
          "metadata": {},
          "output_type": "execute_result"
        }
      ],
      "source": [
        "(pd.concat([trainval_df,\n",
        "           test_df],\n",
        "          axis=0)\n",
        ".sort_values('abs_diff', ascending=False).head(10))"
      ]
    }
  ],
  "metadata": {
    "accelerator": "GPU",
    "colab": {
      "collapsed_sections": [
        "Bbwjz4XerM6B",
        "_eMIXlmOpQwZ",
        "wZbV32LapLVv",
        "F7t3by8PKbQx",
        "_vJiEnMqNdd8",
        "E_VzcT75NWFs",
        "g4zBP_s-D8Mi",
        "weDWTYVZR41O",
        "mleRod1f9xm4",
        "0pSudm4yP2v0"
      ],
      "name": "DL_project_ssast.ipynb",
      "provenance": []
    },
    "gpuClass": "standard",
    "kernelspec": {
      "display_name": "Python 3",
      "name": "python3"
    },
    "language_info": {
      "name": "python"
    }
  },
  "nbformat": 4,
  "nbformat_minor": 0
}
